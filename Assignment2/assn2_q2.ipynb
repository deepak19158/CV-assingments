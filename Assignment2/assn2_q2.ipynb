{
  "cells": [
    {
      "cell_type": "code",
      "execution_count": null,
      "metadata": {
        "id": "7BUrPvTdIr1F"
      },
      "outputs": [],
      "source": [
        "!pip install open3d\n",
        "import os\n",
        "import glob\n",
        "import open3d as o3d\n",
        "import numpy as np\n",
        "import cv2\n",
        "from google.colab.patches import cv2_imshow"
      ]
    },
    {
      "cell_type": "markdown",
      "metadata": {
        "id": "bd5tFReu4X6X"
      },
      "source": [
        "2.1\n"
      ]
    },
    {
      "cell_type": "code",
      "execution_count": 49,
      "metadata": {
        "id": "FaaHSTRbHF2l"
      },
      "outputs": [],
      "source": [
        "pcd_files = glob.glob('/content/drive/MyDrive/lidar/lidar_scans/*.pcd')\n",
        "\n",
        "lidar_normals = []\n",
        "lidar_offsets = []\n",
        "lidar_points = []\n",
        "\n",
        "for idx, pcd in enumerate(pcd_files):\n",
        "  pcd = o3d.io.read_point_cloud(pcd)\n",
        "  points = np.asarray(pcd.points)\n",
        "  lidar_points.append(points)\n",
        "\n",
        "  centroid = np.mean(points, axis=0)\n",
        "\n",
        "  shifted_points = points - centroid\n",
        "\n",
        "  U, s, Vt = np.linalg.svd(shifted_points)\n",
        "\n",
        "  lidar_normals.append(Vt[-1])\n",
        "  lidar_offsets.append(-np.dot(Vt[-1], centroid))\n",
        "\n",
        "lidar_offsets = np.array(lidar_offsets)\n",
        "lidar_normals = np.array(lidar_normals)"
      ]
    },
    {
      "cell_type": "markdown",
      "metadata": {
        "id": "-ZX5F3I74c_j"
      },
      "source": [
        "2.2\n"
      ]
    },
    {
      "cell_type": "code",
      "execution_count": null,
      "metadata": {
        "id": "0Vg_OzTw4eN-"
      },
      "outputs": [],
      "source": [
        "camera_normal_folder = glob.glob('/content/drive/MyDrive/lidar/camera_parameters/*.jpeg/camera_normals.txt')\n",
        "rotation_matrix_folder = glob.glob('/content/drive/MyDrive/lidar/camera_parameters/*.jpeg/rotation_matrix.txt')\n",
        "translation_matrix_folder = glob.glob('/content/drive/MyDrive/lidar/camera_parameters/*.jpeg/translation_vectors.txt')\n",
        "\n",
        "camera_normals = []\n",
        "for idx, cn in enumerate(camera_normal_folder):\n",
        "  nrml = []\n",
        "  with open(cn, 'r') as f:\n",
        "    for line in f:\n",
        "      nrml.append(np.asarray(line[:-1], dtype='float64'))\n",
        "  camera_normals.append(nrml)\n",
        "camera_normals = np.array(camera_normals)\n",
        "\n",
        "rotation_matrix = []\n",
        "for idx, cn in enumerate(rotation_matrix_folder):\n",
        "  nrml = []\n",
        "  with open(cn, 'r') as f:\n",
        "    for line in f:\n",
        "      nrml.append(np.asarray(line[:-1].split(), dtype='float64'))\n",
        "  rotation_matrix.append(nrml)\n",
        "\n",
        "translation_vector = []\n",
        "for idx, cn in enumerate(translation_matrix_folder):\n",
        "  nrml = []\n",
        "  with open(cn, 'r') as f:\n",
        "    for line in f:\n",
        "      nrml.append(np.asarray(line[:-1], dtype='float64'))\n",
        "  translation_vector.append(nrml)"
      ]
    },
    {
      "cell_type": "code",
      "execution_count": null,
      "metadata": {
        "id": "1VqsGAMtIpWm"
      },
      "outputs": [],
      "source": [
        "world_points = np.array([1,1,0])\n",
        "\n",
        "camera_offsets = []\n",
        "for i in range(len(rotation_matrix)):\n",
        "  mul = np.matmul(world_points, np.array(rotation_matrix[i]))\n",
        "  cmr_pt = np.array(np.add(mul, np.array(translation_vector[i])))\n",
        "  \n",
        "  offst = np.matmul(cmr_pt,camera_normals[i])\n",
        "  camera_offsets.append(offst)\n",
        "  \n",
        "camera_offsets = np.array(camera_offsets)"
      ]
    },
    {
      "cell_type": "markdown",
      "source": [
        "2.3\n"
      ],
      "metadata": {
        "id": "pCDrHjsStma8"
      }
    },
    {
      "cell_type": "code",
      "execution_count": null,
      "metadata": {
        "id": "RNoC18cUgOjj"
      },
      "outputs": [],
      "source": [
        "cmr = np.array(camera_normals)\n",
        "inv = np.linalg.inv(np.matmul(cmr.T,cmr))\n",
        "inv_mul_transpose = np.matmul(inv,cmr.T)\n",
        "offst_diff = np.array(camera_offsets)-np.array(lidar_offsets)\n",
        "t1 = np.matmul(inv_mul_transpose, offst_diff)\n",
        "\n",
        "prod = np.matmul(camera_normals.T, lidar_normals)\n",
        "U, s, Vt = np.linalg.svd(prod)\n",
        "R1 = np.matmul(Vt, U.T)"
      ]
    },
    {
      "cell_type": "markdown",
      "metadata": {
        "id": "Ca0rNl2wMGpG"
      },
      "source": [
        "1.4\n"
      ]
    },
    {
      "cell_type": "code",
      "execution_count": 55,
      "metadata": {
        "colab": {
          "base_uri": "https://localhost:8080/"
        },
        "id": "1WnjrqwoRXJm",
        "outputId": "7f5bd584-9ebb-40b4-89f2-a4b9192acd57"
      },
      "outputs": [
        {
          "output_type": "stream",
          "name": "stdout",
          "text": [
            "25\n"
          ]
        }
      ],
      "source": [
        "CHECKERBOARD = (6,8)\n",
        "criteria = (cv2.TERM_CRITERIA_EPS + cv2.TERM_CRITERIA_MAX_ITER, 30, 0.001)\n",
        " \n",
        "objpoints = []\n",
        "imgpoints = []\n",
        "\n",
        "objp = np.zeros((1, CHECKERBOARD[0] * CHECKERBOARD[1], 3), np.float32)\n",
        "objp[0,:,:2] = np.mgrid[0:CHECKERBOARD[0], 0:CHECKERBOARD[1]].T.reshape(-1, 2)\n",
        "prev_img_shape = None\n",
        "\n",
        "calibration_images = glob.glob('/content/drive/MyDrive/lidar/camera_images/*.jpeg')\n",
        "print(len(calibration_images))\n",
        "\n",
        "for idx, fname in enumerate(calibration_images):\n",
        "  img = cv2.imread(fname)\n",
        "  gray = cv2.cvtColor(img, cv2.COLOR_BGR2GRAY) \n",
        "  ret, corners = cv2.findChessboardCorners(gray, (CHECKERBOARD[0], CHECKERBOARD[1]), None)\n",
        "  \n",
        "  if ret == True:\n",
        "      objpoints.append(objp)\n",
        "      imgpoints.append(corners)\n",
        "      \n",
        "      # cv2.waitKey(500)  \n",
        "\n",
        "objpoints = np.array(objpoints)\n",
        "imgpoints = np.array(imgpoints)\n",
        "\n",
        "ret, mtx, dist, rvecs, tvecs = cv2.calibrateCamera(objpoints, imgpoints, gray.shape[::-1], None, None)"
      ]
    },
    {
      "cell_type": "code",
      "source": [
        "np.array(mtx).shape"
      ],
      "metadata": {
        "colab": {
          "base_uri": "https://localhost:8080/"
        },
        "id": "dYSPXvHLtG-W",
        "outputId": "eb4e39cc-e709-4b6f-f23f-45e96671fcd9"
      },
      "execution_count": 56,
      "outputs": [
        {
          "output_type": "execute_result",
          "data": {
            "text/plain": [
              "(3, 3)"
            ]
          },
          "metadata": {},
          "execution_count": 56
        }
      ]
    },
    {
      "cell_type": "markdown",
      "source": [
        "2.4\n"
      ],
      "metadata": {
        "id": "hBEAGPQXtiWA"
      }
    },
    {
      "cell_type": "code",
      "source": [
        "lidar_points = np.array(lidar_points)\n",
        "camera_trnsf_points = []\n",
        "\n",
        "for i in range(len(lidar_points)):\n",
        "\n",
        "  tmp = []\n",
        "  for pt in lidar_points[i]:\n",
        "    arr = np.matmul(np.array(pt),mtx)\n",
        "    tmp.append(arr)\n",
        "  camera_trnsf_points.append(tmp)\n"
      ],
      "metadata": {
        "id": "KXSPEi7zTQjP"
      },
      "execution_count": 58,
      "outputs": []
    }
  ],
  "metadata": {
    "colab": {
      "provenance": []
    },
    "kernelspec": {
      "display_name": "Python 3",
      "name": "python3"
    },
    "language_info": {
      "name": "python"
    }
  },
  "nbformat": 4,
  "nbformat_minor": 0
}